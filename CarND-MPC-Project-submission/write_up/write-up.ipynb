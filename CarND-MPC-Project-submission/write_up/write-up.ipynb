{
 "cells": [
  {
   "cell_type": "markdown",
   "metadata": {},
   "source": [
    "## MPC Project\n",
    "\n",
    "### Model\n",
    "\n",
    "In this project, kinematic model of vehicle is used. The state of the car is given by position (ie, x and y coordinate), heading orientation (psi), velocity, cross track error (cte) and psi error (epsi). Cross track error and psi error is added to state to know how good the state. Actuator outputs are acceleration and delta (steering angle). The update of state from time t, to t+1 is done using the following equations,\n",
    "\n",
    "      x_[t+1] = x[t] + v[t] * cos(psi[t]) * dt\n",
    "      y_[t+1] = y[t] + v[t] * sin(psi[t]) * dt\n",
    "      psi_[t+1] = psi[t] - v[t] / Lf * delta[t] * dt\n",
    "      v_[t+1] = v[t] + a[t] * dt\n",
    "      cte[t+1] = f(x[t]) - y[t] + v[t] * sin(epsi[t]) * dt\n",
    "      epsi[t+1] = psi[t] - psides[t] - v[t] * delta[t] / Lf * dt\n",
    "\n",
    "### Timestep Length and Elapsed Duration (N & dt)\n",
    "\n",
    "N and dt were two of the hyper parameters that had to be tuned. Even though I tried various N and dt values, I have settled with the values which were discussed in the Udacity's Q&A video on this project. The values are as follows,\n",
    "\n",
    "    N = 10\n",
    "\n",
    "    dt = 0.1\n",
    "\n",
    "### Polynomial Fitting and MPC Preprocessing\n",
    "\n",
    "The waypoints transformed to car's coordinates, thus making (x, y) at origin (0, 0) and orientation angle, psi, zero. Code is at 103 - 108 in main.cpp\n",
    "\n",
    "### Model Predictive Control with Latency\n",
    "\n",
    "Following are the equations used to update the initial state for accomodating the latency.\n",
    "\n",
    "          pred_px = v * latency\n",
    "          pred_psi = -1.0 * ((v * delta * latency) / Lf)\n",
    "          pred_v = v + acceleration * latency\n",
    "          pred_cte = cte + v * sin(epsi) * latency\n",
    "          pred_epsi = epsi - ((v * delta * latency) / Lf)\n",
    "          \n",
    "### Output\n",
    "<br/>\n",
    "<center>\n",
    "    <video width=\"960\" height=\"540\" controls src=\"output_video.mp4\" />\n",
    "</center>\n",
    "       "
   ]
  },
  {
   "cell_type": "code",
   "execution_count": null,
   "metadata": {},
   "outputs": [],
   "source": []
  }
 ],
 "metadata": {
  "kernelspec": {
   "display_name": "Python [conda env:carnd-term1]",
   "language": "python",
   "name": "conda-env-carnd-term1-py"
  },
  "language_info": {
   "codemirror_mode": {
    "name": "ipython",
    "version": 3
   },
   "file_extension": ".py",
   "mimetype": "text/x-python",
   "name": "python",
   "nbconvert_exporter": "python",
   "pygments_lexer": "ipython3",
   "version": "3.5.2"
  },
  "widgets": {
   "state": {},
   "version": "1.1.2"
  }
 },
 "nbformat": 4,
 "nbformat_minor": 2
}
